{
  "nbformat": 4,
  "nbformat_minor": 0,
  "metadata": {
    "colab": {
      "provenance": []
    },
    "kernelspec": {
      "name": "python3",
      "display_name": "Python 3"
    },
    "language_info": {
      "name": "python"
    }
  },
  "cells": [
    {
      "cell_type": "code",
      "execution_count": 2,
      "metadata": {
        "colab": {
          "base_uri": "https://localhost:8080/"
        },
        "id": "pZrgwP7PB5bx",
        "outputId": "276a4129-5f4e-4978-f291-1d4cc6bde714"
      },
      "outputs": [
        {
          "output_type": "stream",
          "name": "stdout",
          "text": [
            "Mounted at /content/drive\n"
          ]
        }
      ],
      "source": [
        "\n",
        "from google.colab import drive\n",
        "\n",
        "\n",
        "drive.mount('/content/drive')\n"
      ]
    },
    {
      "cell_type": "markdown",
      "source": [
        "Spark Install"
      ],
      "metadata": {
        "id": "TjWvIa4kuYPA"
      }
    },
    {
      "cell_type": "code",
      "source": [
        "!pip3 -q install pyspark\n",
        "from pyspark.sql import SparkSession\n",
        "spark = SparkSession.builder.appName('Uber').master(\"local[*]\").getOrCreate()\n",
        "sc = spark.sparkContext"
      ],
      "metadata": {
        "colab": {
          "base_uri": "https://localhost:8080/"
        },
        "id": "uEjIWYsxtRCi",
        "outputId": "23acb4a2-776a-4610-99db-c1f03ea2b70e"
      },
      "execution_count": 3,
      "outputs": [
        {
          "output_type": "stream",
          "name": "stdout",
          "text": [
            "\u001b[2K     \u001b[90m━━━━━━━━━━━━━━━━━━━━━━━━━━━━━━━━━━━━━━━━\u001b[0m \u001b[32m317.3/317.3 MB\u001b[0m \u001b[31m4.9 MB/s\u001b[0m eta \u001b[36m0:00:00\u001b[0m\n",
            "\u001b[?25h  Preparing metadata (setup.py) ... \u001b[?25l\u001b[?25hdone\n",
            "  Building wheel for pyspark (setup.py) ... \u001b[?25l\u001b[?25hdone\n"
          ]
        }
      ]
    },
    {
      "cell_type": "code",
      "source": [
        "import math\n",
        "from pyspark.sql.functions import mean\n",
        "from pyspark.ml.feature import (VectorAssembler,OneHotEncoder, StringIndexer)\n",
        "from pyspark.ml import Pipeline\n",
        "from pyspark.ml import PipelineModel\n",
        "from pyspark.ml.classification import LogisticRegression\n",
        "from pyspark.ml.classification import RandomForestClassifier\n",
        "from pyspark.ml.classification import GBTClassifier\n",
        "from pyspark.ml.evaluation import MulticlassClassificationEvaluator\n",
        "from pyspark.ml.evaluation import BinaryClassificationEvaluator\n",
        "from pyspark.sql.functions import col, sum, year, month, dayofweek, hour, minute, second, date_format, to_date, to_timestamp,when,radians, sin, cos, sqrt, atan2, udf\n",
        "from pyspark.sql.types import DoubleType\n",
        "from pyspark.ml.feature import VectorAssembler\n",
        "from pyspark.ml.regression import LinearRegression\n",
        "from pyspark.ml.evaluation import RegressionEvaluator\n",
        "from pyspark.ml.regression import DecisionTreeRegressor\n",
        "from pyspark.ml.evaluation import RegressionEvaluator\n",
        "from pyspark.ml.regression import RandomForestRegressor\n",
        "from pyspark.ml.evaluation import RegressionEvaluator\n",
        "from pyspark.ml.regression import GBTRegressor\n",
        "from pyspark.ml.evaluation import RegressionEvaluator\n",
        "from pyspark.ml.feature import VectorAssembler, StandardScaler\n",
        "\n",
        "\n"
      ],
      "metadata": {
        "id": "ntsnAFb2txZL"
      },
      "execution_count": 71,
      "outputs": []
    },
    {
      "cell_type": "code",
      "source": [
        "file_path = '/content/drive/MyDrive/Projects/Uber analysis pyspark/uber.csv'"
      ],
      "metadata": {
        "id": "XRfyLSKLtxbw"
      },
      "execution_count": 5,
      "outputs": []
    },
    {
      "cell_type": "code",
      "source": [
        "# Load the data into a Spark DataFrame\n",
        "df = spark.read.csv(file_path, header=True, inferSchema=True)"
      ],
      "metadata": {
        "id": "6FWHdWb4txel"
      },
      "execution_count": 6,
      "outputs": []
    },
    {
      "cell_type": "code",
      "source": [
        "df.show(5)"
      ],
      "metadata": {
        "colab": {
          "base_uri": "https://localhost:8080/"
        },
        "id": "IimARi99txhc",
        "outputId": "af97b031-6016-482f-e8ae-d0198e3f2a51"
      },
      "execution_count": 7,
      "outputs": [
        {
          "output_type": "stream",
          "name": "stdout",
          "text": [
            "+--------+-------------------+-----------+-------------------+------------------+-----------------+------------------+-----------------+---------------+\n",
            "|     _c0|                key|fare_amount|    pickup_datetime|  pickup_longitude|  pickup_latitude| dropoff_longitude| dropoff_latitude|passenger_count|\n",
            "+--------+-------------------+-----------+-------------------+------------------+-----------------+------------------+-----------------+---------------+\n",
            "|24238194|2015-05-07 19:52:06|        7.5|2015-05-07 19:52:06|-73.99981689453125|40.73835372924805|   -73.99951171875|40.72321701049805|              1|\n",
            "|27835199|2009-07-17 20:04:56|        7.7|2009-07-17 20:04:56|        -73.994355|        40.728225|         -73.99471|        40.750325|              1|\n",
            "|44984355|2009-08-24 21:45:00|       12.9|2009-08-24 21:45:00|        -74.005043|         40.74077|        -73.962565|        40.772647|              1|\n",
            "|25894730|2009-06-26 08:22:21|        5.3|2009-06-26 08:22:21|        -73.976124|        40.790844|        -73.965316|        40.803349|              3|\n",
            "|17610152|2014-08-28 17:47:00|       16.0|2014-08-28 17:47:00|        -73.925023|        40.744085|-73.97308199999999|        40.761247|              5|\n",
            "+--------+-------------------+-----------+-------------------+------------------+-----------------+------------------+-----------------+---------------+\n",
            "only showing top 5 rows\n",
            "\n"
          ]
        }
      ]
    },
    {
      "cell_type": "code",
      "source": [
        "df = df.drop('_c0')"
      ],
      "metadata": {
        "id": "iYPbgS8Cvzz3"
      },
      "execution_count": 8,
      "outputs": []
    },
    {
      "cell_type": "code",
      "source": [
        "df.show(5)"
      ],
      "metadata": {
        "id": "b1Mei6S6txnY",
        "colab": {
          "base_uri": "https://localhost:8080/"
        },
        "outputId": "fa1ebafa-126d-4ee9-f95a-9f36009f42a3"
      },
      "execution_count": 9,
      "outputs": [
        {
          "output_type": "stream",
          "name": "stdout",
          "text": [
            "+-------------------+-----------+-------------------+------------------+-----------------+------------------+-----------------+---------------+\n",
            "|                key|fare_amount|    pickup_datetime|  pickup_longitude|  pickup_latitude| dropoff_longitude| dropoff_latitude|passenger_count|\n",
            "+-------------------+-----------+-------------------+------------------+-----------------+------------------+-----------------+---------------+\n",
            "|2015-05-07 19:52:06|        7.5|2015-05-07 19:52:06|-73.99981689453125|40.73835372924805|   -73.99951171875|40.72321701049805|              1|\n",
            "|2009-07-17 20:04:56|        7.7|2009-07-17 20:04:56|        -73.994355|        40.728225|         -73.99471|        40.750325|              1|\n",
            "|2009-08-24 21:45:00|       12.9|2009-08-24 21:45:00|        -74.005043|         40.74077|        -73.962565|        40.772647|              1|\n",
            "|2009-06-26 08:22:21|        5.3|2009-06-26 08:22:21|        -73.976124|        40.790844|        -73.965316|        40.803349|              3|\n",
            "|2014-08-28 17:47:00|       16.0|2014-08-28 17:47:00|        -73.925023|        40.744085|-73.97308199999999|        40.761247|              5|\n",
            "+-------------------+-----------+-------------------+------------------+-----------------+------------------+-----------------+---------------+\n",
            "only showing top 5 rows\n",
            "\n"
          ]
        }
      ]
    },
    {
      "cell_type": "code",
      "source": [
        "df.printSchema()"
      ],
      "metadata": {
        "id": "hRZJGl6ltxqH",
        "colab": {
          "base_uri": "https://localhost:8080/"
        },
        "outputId": "0176cc51-98e8-4aee-a585-152ee19247c5"
      },
      "execution_count": 10,
      "outputs": [
        {
          "output_type": "stream",
          "name": "stdout",
          "text": [
            "root\n",
            " |-- key: timestamp (nullable = true)\n",
            " |-- fare_amount: double (nullable = true)\n",
            " |-- pickup_datetime: timestamp (nullable = true)\n",
            " |-- pickup_longitude: double (nullable = true)\n",
            " |-- pickup_latitude: double (nullable = true)\n",
            " |-- dropoff_longitude: double (nullable = true)\n",
            " |-- dropoff_latitude: double (nullable = true)\n",
            " |-- passenger_count: integer (nullable = true)\n",
            "\n"
          ]
        }
      ]
    },
    {
      "cell_type": "code",
      "source": [
        "# List of column expressions to calculate null counts\n",
        "null_counts_expressions = [sum(col(c).isNull().cast(\"int\")).alias(c) for c in df.columns]\n"
      ],
      "metadata": {
        "id": "ooifbrl1txs7"
      },
      "execution_count": 11,
      "outputs": []
    },
    {
      "cell_type": "code",
      "source": [
        "df.select(null_counts_expressions).show()"
      ],
      "metadata": {
        "id": "QOq8xLVxtxwN",
        "colab": {
          "base_uri": "https://localhost:8080/"
        },
        "outputId": "03d2b15d-b932-438a-84f6-c3f8dcb726b5"
      },
      "execution_count": 12,
      "outputs": [
        {
          "output_type": "stream",
          "name": "stdout",
          "text": [
            "+---+-----------+---------------+----------------+---------------+-----------------+----------------+---------------+\n",
            "|key|fare_amount|pickup_datetime|pickup_longitude|pickup_latitude|dropoff_longitude|dropoff_latitude|passenger_count|\n",
            "+---+-----------+---------------+----------------+---------------+-----------------+----------------+---------------+\n",
            "|  0|          0|              0|               0|              0|                1|               1|              0|\n",
            "+---+-----------+---------------+----------------+---------------+-----------------+----------------+---------------+\n",
            "\n"
          ]
        }
      ]
    },
    {
      "cell_type": "code",
      "source": [
        "df_cleaned = df.dropna()"
      ],
      "metadata": {
        "id": "6fAGpdhetxzY"
      },
      "execution_count": 13,
      "outputs": []
    },
    {
      "cell_type": "code",
      "source": [
        "df_cleaned.select(null_counts_expressions).show() #no null values now"
      ],
      "metadata": {
        "colab": {
          "base_uri": "https://localhost:8080/"
        },
        "id": "gu6_wsd8HRXi",
        "outputId": "af8598bc-2e66-4a75-ada1-47a496e4069a"
      },
      "execution_count": 14,
      "outputs": [
        {
          "output_type": "stream",
          "name": "stdout",
          "text": [
            "+---+-----------+---------------+----------------+---------------+-----------------+----------------+---------------+\n",
            "|key|fare_amount|pickup_datetime|pickup_longitude|pickup_latitude|dropoff_longitude|dropoff_latitude|passenger_count|\n",
            "+---+-----------+---------------+----------------+---------------+-----------------+----------------+---------------+\n",
            "|  0|          0|              0|               0|              0|                0|               0|              0|\n",
            "+---+-----------+---------------+----------------+---------------+-----------------+----------------+---------------+\n",
            "\n"
          ]
        }
      ]
    },
    {
      "cell_type": "code",
      "source": [
        "df_cleaned.count()"
      ],
      "metadata": {
        "colab": {
          "base_uri": "https://localhost:8080/"
        },
        "id": "1-iwYuubHc5d",
        "outputId": "58c99f25-f2b5-4f08-9120-b68766392817"
      },
      "execution_count": 15,
      "outputs": [
        {
          "output_type": "execute_result",
          "data": {
            "text/plain": [
              "199999"
            ]
          },
          "metadata": {},
          "execution_count": 15
        }
      ]
    },
    {
      "cell_type": "code",
      "source": [
        "# Extract year, month, day of week, hour, minute, and second\n",
        "df_2 = df_cleaned.withColumn(\"year\", year(\"pickup_datetime\")) \\\n",
        "            .withColumn(\"month\", month(\"pickup_datetime\")) \\\n",
        "            .withColumn(\"day_of_week\", date_format(\"pickup_datetime\", \"EEEE\")) \\\n",
        "            .withColumn(\"hour\", hour(\"pickup_datetime\")) \\\n",
        "            .withColumn(\"minute\", minute(\"pickup_datetime\")) \\\n",
        "            .withColumn(\"second\", second(\"pickup_datetime\"))\n",
        "\n",
        "# Show the new DataFrame\n",
        "df_2.show()\n"
      ],
      "metadata": {
        "colab": {
          "base_uri": "https://localhost:8080/"
        },
        "id": "QZbBnFHGINIZ",
        "outputId": "92a09622-34e7-4eec-cc4d-21ed5f2cba63"
      },
      "execution_count": 16,
      "outputs": [
        {
          "output_type": "stream",
          "name": "stdout",
          "text": [
            "+-------------------+-----------+-------------------+------------------+------------------+------------------+------------------+---------------+----+-----+-----------+----+------+------+\n",
            "|                key|fare_amount|    pickup_datetime|  pickup_longitude|   pickup_latitude| dropoff_longitude|  dropoff_latitude|passenger_count|year|month|day_of_week|hour|minute|second|\n",
            "+-------------------+-----------+-------------------+------------------+------------------+------------------+------------------+---------------+----+-----+-----------+----+------+------+\n",
            "|2015-05-07 19:52:06|        7.5|2015-05-07 19:52:06|-73.99981689453125| 40.73835372924805|   -73.99951171875| 40.72321701049805|              1|2015|    5|   Thursday|  19|    52|     6|\n",
            "|2009-07-17 20:04:56|        7.7|2009-07-17 20:04:56|        -73.994355|         40.728225|         -73.99471|         40.750325|              1|2009|    7|     Friday|  20|     4|    56|\n",
            "|2009-08-24 21:45:00|       12.9|2009-08-24 21:45:00|        -74.005043|          40.74077|        -73.962565|         40.772647|              1|2009|    8|     Monday|  21|    45|     0|\n",
            "|2009-06-26 08:22:21|        5.3|2009-06-26 08:22:21|        -73.976124|         40.790844|        -73.965316|         40.803349|              3|2009|    6|     Friday|   8|    22|    21|\n",
            "|2014-08-28 17:47:00|       16.0|2014-08-28 17:47:00|        -73.925023|         40.744085|-73.97308199999999|         40.761247|              5|2014|    8|   Thursday|  17|    47|     0|\n",
            "|2011-02-12 02:27:09|        4.9|2011-02-12 02:27:09|-73.96901899999999|          40.75591|-73.96901899999999|          40.75591|              1|2011|    2|   Saturday|   2|    27|     9|\n",
            "|2014-10-12 07:04:00|       24.5|2014-10-12 07:04:00|-73.96144699999999|40.693965000000006|        -73.871195|         40.774297|              5|2014|   10|     Sunday|   7|     4|     0|\n",
            "|2012-12-11 13:52:00|        2.5|2012-12-11 13:52:00|               0.0|               0.0|               0.0|               0.0|              1|2012|   12|    Tuesday|  13|    52|     0|\n",
            "|2012-02-17 09:32:00|        9.7|2012-02-17 09:32:00|        -73.975187|         40.745767|         -74.00272|40.743536999999996|              1|2012|    2|     Friday|   9|    32|     0|\n",
            "|2012-03-29 19:06:00|       12.5|2012-03-29 19:06:00|        -74.001065|         40.741787|         -73.96304|         40.775012|              1|2012|    3|   Thursday|  19|     6|     0|\n",
            "|2015-05-22 17:32:27|        6.5|2015-05-22 17:32:27| -73.9743881225586| 40.74695205688477|-73.98858642578125|40.729804992675774|              1|2015|    5|     Friday|  17|    32|    27|\n",
            "|2011-05-23 22:15:00|        8.5|2011-05-23 22:15:00|               0.0|               0.0|               0.0|               0.0|              1|2011|    5|     Monday|  22|    15|     0|\n",
            "|2011-05-17 14:03:00|        3.3|2011-05-17 14:03:00|        -73.966378|          40.80444|         -73.96589|         40.807133|              5|2011|    5|    Tuesday|  14|     3|     0|\n",
            "|2011-06-25 11:19:00|       10.9|2011-06-25 11:19:00|        -73.953352|         40.767382|         -73.97251|         40.796137|              1|2011|    6|   Saturday|  11|    19|     0|\n",
            "|2010-04-06 22:20:27|        6.9|2010-04-06 22:20:27|-73.97336999999999|         40.755193|-73.97826500000001|         40.766375|              1|2010|    4|    Tuesday|  22|    20|    27|\n",
            "|2012-02-21 09:33:00|        9.7|2012-02-21 09:33:00|        -73.990718|          40.75192|-73.97305300000001|          40.74423|              2|2012|    2|    Tuesday|   9|    33|     0|\n",
            "|2011-09-01 09:21:40|        4.9|2011-09-01 09:21:40|        -73.988908|         40.756982|        -73.981246|          40.76005|              1|2011|    9|   Thursday|   9|    21|    40|\n",
            "|2011-03-19 23:58:27|       10.5|2011-03-19 23:58:27|-74.00566500000001|         40.741138|-73.97783000000001|         40.749338|              2|2011|    3|   Saturday|  23|    58|    27|\n",
            "|2015-03-25 08:58:35|       12.0|2015-03-25 08:58:35|-73.96253204345702|40.767189025878906|-73.97445678710938| 40.75386047363281|              1|2015|    3|  Wednesday|   8|    58|    35|\n",
            "|2009-08-08 00:20:00|        4.9|2009-08-08 00:20:00|        -73.992075|         40.719633|        -73.985323|         40.727405|              1|2009|    8|   Saturday|   0|    20|     0|\n",
            "+-------------------+-----------+-------------------+------------------+------------------+------------------+------------------+---------------+----+-----+-----------+----+------+------+\n",
            "only showing top 20 rows\n",
            "\n"
          ]
        }
      ]
    },
    {
      "cell_type": "code",
      "source": [
        "df_2 = df_2.drop('pickup_datetime', 'second')"
      ],
      "metadata": {
        "id": "WDOGHQa9HVV_"
      },
      "execution_count": 17,
      "outputs": []
    },
    {
      "cell_type": "code",
      "source": [
        "df_2.show(5)"
      ],
      "metadata": {
        "id": "LBGs-DbTtx1n",
        "colab": {
          "base_uri": "https://localhost:8080/"
        },
        "outputId": "de25b1e1-b352-44bd-f3b8-eca30901d79a"
      },
      "execution_count": 18,
      "outputs": [
        {
          "output_type": "stream",
          "name": "stdout",
          "text": [
            "+-------------------+-----------+------------------+-----------------+------------------+-----------------+---------------+----+-----+-----------+----+------+\n",
            "|                key|fare_amount|  pickup_longitude|  pickup_latitude| dropoff_longitude| dropoff_latitude|passenger_count|year|month|day_of_week|hour|minute|\n",
            "+-------------------+-----------+------------------+-----------------+------------------+-----------------+---------------+----+-----+-----------+----+------+\n",
            "|2015-05-07 19:52:06|        7.5|-73.99981689453125|40.73835372924805|   -73.99951171875|40.72321701049805|              1|2015|    5|   Thursday|  19|    52|\n",
            "|2009-07-17 20:04:56|        7.7|        -73.994355|        40.728225|         -73.99471|        40.750325|              1|2009|    7|     Friday|  20|     4|\n",
            "|2009-08-24 21:45:00|       12.9|        -74.005043|         40.74077|        -73.962565|        40.772647|              1|2009|    8|     Monday|  21|    45|\n",
            "|2009-06-26 08:22:21|        5.3|        -73.976124|        40.790844|        -73.965316|        40.803349|              3|2009|    6|     Friday|   8|    22|\n",
            "|2014-08-28 17:47:00|       16.0|        -73.925023|        40.744085|-73.97308199999999|        40.761247|              5|2014|    8|   Thursday|  17|    47|\n",
            "+-------------------+-----------+------------------+-----------------+------------------+-----------------+---------------+----+-----+-----------+----+------+\n",
            "only showing top 5 rows\n",
            "\n"
          ]
        }
      ]
    },
    {
      "cell_type": "code",
      "source": [
        "df_2 = df_2.withColumn(\"day_or_night\",\n",
        "                   when((df_2[\"hour\"] >= 6) & (df_2[\"hour\"] < 18), \"Day\")\n",
        "                   .otherwise(\"Night\"))"
      ],
      "metadata": {
        "id": "UtwLjplqNWUV"
      },
      "execution_count": 19,
      "outputs": []
    },
    {
      "cell_type": "code",
      "source": [
        "df_2.show(5)"
      ],
      "metadata": {
        "colab": {
          "base_uri": "https://localhost:8080/"
        },
        "id": "StcY-BJhPJCN",
        "outputId": "09fe22e3-338e-4d48-e05b-022c4dba7009"
      },
      "execution_count": 20,
      "outputs": [
        {
          "output_type": "stream",
          "name": "stdout",
          "text": [
            "+-------------------+-----------+------------------+-----------------+------------------+-----------------+---------------+----+-----+-----------+----+------+------------+\n",
            "|                key|fare_amount|  pickup_longitude|  pickup_latitude| dropoff_longitude| dropoff_latitude|passenger_count|year|month|day_of_week|hour|minute|day_or_night|\n",
            "+-------------------+-----------+------------------+-----------------+------------------+-----------------+---------------+----+-----+-----------+----+------+------------+\n",
            "|2015-05-07 19:52:06|        7.5|-73.99981689453125|40.73835372924805|   -73.99951171875|40.72321701049805|              1|2015|    5|   Thursday|  19|    52|       Night|\n",
            "|2009-07-17 20:04:56|        7.7|        -73.994355|        40.728225|         -73.99471|        40.750325|              1|2009|    7|     Friday|  20|     4|       Night|\n",
            "|2009-08-24 21:45:00|       12.9|        -74.005043|         40.74077|        -73.962565|        40.772647|              1|2009|    8|     Monday|  21|    45|       Night|\n",
            "|2009-06-26 08:22:21|        5.3|        -73.976124|        40.790844|        -73.965316|        40.803349|              3|2009|    6|     Friday|   8|    22|         Day|\n",
            "|2014-08-28 17:47:00|       16.0|        -73.925023|        40.744085|-73.97308199999999|        40.761247|              5|2014|    8|   Thursday|  17|    47|         Day|\n",
            "+-------------------+-----------+------------------+-----------------+------------------+-----------------+---------------+----+-----+-----------+----+------+------------+\n",
            "only showing top 5 rows\n",
            "\n"
          ]
        }
      ]
    },
    {
      "cell_type": "code",
      "source": [
        "#unique key values\n",
        "df_2.select(col(\"key\")).distinct().count()"
      ],
      "metadata": {
        "colab": {
          "base_uri": "https://localhost:8080/"
        },
        "id": "8kKdq7QmPJIJ",
        "outputId": "5f14bbe3-c1fb-4544-e4eb-839961f66094"
      },
      "execution_count": 21,
      "outputs": [
        {
          "output_type": "execute_result",
          "data": {
            "text/plain": [
              "196628"
            ]
          },
          "metadata": {},
          "execution_count": 21
        }
      ]
    },
    {
      "cell_type": "code",
      "source": [
        "# Define the Haversine formula as a Python function\n",
        "def haversine(lat1, lon1, lat2, lon2):\n",
        "    # Radius of the Earth in kilometers\n",
        "    R = 6371.0\n",
        "\n",
        "    # Convert latitude and longitude from degrees to radians\n",
        "    lat1 = math.radians(lat1)\n",
        "    lon1 = math.radians(lon1)\n",
        "    lat2 = math.radians(lat2)\n",
        "    lon2 = math.radians(lon2)\n",
        "\n",
        "    # Compute differences\n",
        "    dlat = lat2 - lat1\n",
        "    dlon = lon2 - lon1\n",
        "\n",
        "    # Haversine formula\n",
        "    a = math.sin(dlat / 2)**2 + math.cos(lat1) * math.cos(lat2) * math.sin(dlon / 2)**2\n",
        "    c = 2 * math.atan2(math.sqrt(a), math.sqrt(1 - a))\n",
        "\n",
        "    # Distance in kilometers\n",
        "    distance = R * c\n",
        "    return distance"
      ],
      "metadata": {
        "id": "5rF-q410SNYN"
      },
      "execution_count": 22,
      "outputs": []
    },
    {
      "cell_type": "code",
      "source": [
        "# Convert the Haversine formula to a UDF, The step to convert the Haversine formula to a User Defined Function (UDF) is necessary because\n",
        "# PySpark requires functions to be registered as UDFs in order to apply them to\n",
        "# DataFrame columns.\n",
        "haversine_udf = udf(lambda lat1, lon1, lat2, lon2: haversine(lat1, lon1, lat2, lon2), DoubleType())\n"
      ],
      "metadata": {
        "id": "_-4RqJ0NPJKy"
      },
      "execution_count": 23,
      "outputs": []
    },
    {
      "cell_type": "code",
      "source": [
        "# Apply the Haversine formula UDF to calculate distance\n",
        "df_2 = df_2.withColumn(\"distance_km\", haversine_udf(col(\"pickup_latitude\"), col(\"dropoff_longitude\"), col(\"dropoff_latitude\"), col(\"dropoff_longitude\")))\n"
      ],
      "metadata": {
        "id": "L9nwPuJqPJNk"
      },
      "execution_count": 24,
      "outputs": []
    },
    {
      "cell_type": "code",
      "source": [
        "df_2.show(5)"
      ],
      "metadata": {
        "colab": {
          "base_uri": "https://localhost:8080/"
        },
        "id": "8nv5dwqPYjRu",
        "outputId": "e1bdfb6d-ec50-448f-b47e-ba3baff7062a"
      },
      "execution_count": 25,
      "outputs": [
        {
          "output_type": "stream",
          "name": "stdout",
          "text": [
            "+-------------------+-----------+------------------+-----------------+------------------+-----------------+---------------+----+-----+-----------+----+------+------------+------------------+\n",
            "|                key|fare_amount|  pickup_longitude|  pickup_latitude| dropoff_longitude| dropoff_latitude|passenger_count|year|month|day_of_week|hour|minute|day_or_night|       distance_km|\n",
            "+-------------------+-----------+------------------+-----------------+------------------+-----------------+---------------+----+-----+-----------+----+------+------------+------------------+\n",
            "|2015-05-07 19:52:06|        7.5|-73.99981689453125|40.73835372924805|   -73.99951171875|40.72321701049805|              1|2015|    5|   Thursday|  19|    52|       Night|1.6831263310455395|\n",
            "|2009-07-17 20:04:56|        7.7|        -73.994355|        40.728225|         -73.99471|        40.750325|              1|2009|    7|     Friday|  20|     4|       Night|2.4574078788441422|\n",
            "|2009-08-24 21:45:00|       12.9|        -74.005043|         40.74077|        -73.962565|        40.772647|              1|2009|    8|     Monday|  21|    45|       Night|3.5445606766481967|\n",
            "|2009-06-26 08:22:21|        5.3|        -73.976124|        40.790844|        -73.965316|        40.803349|              3|2009|    6|     Friday|   8|    22|         Day|1.3904925576901968|\n",
            "|2014-08-28 17:47:00|       16.0|        -73.925023|        40.744085|-73.97308199999999|        40.761247|              5|2014|    8|   Thursday|  17|    47|         Day| 1.908327331073727|\n",
            "+-------------------+-----------+------------------+-----------------+------------------+-----------------+---------------+----+-----+-----------+----+------+------------+------------------+\n",
            "only showing top 5 rows\n",
            "\n"
          ]
        }
      ]
    },
    {
      "cell_type": "code",
      "source": [
        "df_2 = df_2.drop('pickup_longitude', 'pickup_latitude', 'dropoff_longitude', 'dropoff_latitude')"
      ],
      "metadata": {
        "id": "DInb1ZDVYjVJ"
      },
      "execution_count": 26,
      "outputs": []
    },
    {
      "cell_type": "code",
      "source": [
        "df_2.show(5)"
      ],
      "metadata": {
        "id": "3X5W3fKbYjYq",
        "colab": {
          "base_uri": "https://localhost:8080/"
        },
        "outputId": "d3437f5d-24c0-4007-ed34-47f8cd95364c"
      },
      "execution_count": 27,
      "outputs": [
        {
          "output_type": "stream",
          "name": "stdout",
          "text": [
            "+-------------------+-----------+---------------+----+-----+-----------+----+------+------------+------------------+\n",
            "|                key|fare_amount|passenger_count|year|month|day_of_week|hour|minute|day_or_night|       distance_km|\n",
            "+-------------------+-----------+---------------+----+-----+-----------+----+------+------------+------------------+\n",
            "|2015-05-07 19:52:06|        7.5|              1|2015|    5|   Thursday|  19|    52|       Night|1.6831263310455395|\n",
            "|2009-07-17 20:04:56|        7.7|              1|2009|    7|     Friday|  20|     4|       Night|2.4574078788441422|\n",
            "|2009-08-24 21:45:00|       12.9|              1|2009|    8|     Monday|  21|    45|       Night|3.5445606766481967|\n",
            "|2009-06-26 08:22:21|        5.3|              3|2009|    6|     Friday|   8|    22|         Day|1.3904925576901968|\n",
            "|2014-08-28 17:47:00|       16.0|              5|2014|    8|   Thursday|  17|    47|         Day| 1.908327331073727|\n",
            "+-------------------+-----------+---------------+----+-----+-----------+----+------+------------+------------------+\n",
            "only showing top 5 rows\n",
            "\n"
          ]
        }
      ]
    },
    {
      "cell_type": "code",
      "source": [
        "df_2.describe().show()"
      ],
      "metadata": {
        "id": "gstnTEiVYjbm",
        "colab": {
          "base_uri": "https://localhost:8080/"
        },
        "outputId": "0fe7538c-39ce-4a96-f172-b79592809396"
      },
      "execution_count": 28,
      "outputs": [
        {
          "output_type": "stream",
          "name": "stdout",
          "text": [
            "+-------+------------------+------------------+------------------+------------------+-----------+------------------+-----------------+------------+------------------+\n",
            "|summary|       fare_amount|   passenger_count|              year|             month|day_of_week|              hour|           minute|day_or_night|       distance_km|\n",
            "+-------+------------------+------------------+------------------+------------------+-----------+------------------+-----------------+------------+------------------+\n",
            "|  count|            199999|            199999|            199999|            199999|     199999|            199999|           199999|      199999|            199999|\n",
            "|   mean|11.359891549457801|1.6845434227171137|2011.7424337121686| 6.281791408957044|       NULL|13.491387456937284|29.53484767423837|        NULL|11.022020153306086|\n",
            "| stddev| 9.901759999426826| 1.385994897260366|1.8563995801735673|3.4389333028560847|       NULL| 6.515505282981817|17.33544258365983|        NULL|198.51644851962516|\n",
            "|    min|             -52.0|                 0|              2009|                 1|     Friday|                 0|                0|         Day|               0.0|\n",
            "|    max|             499.0|               208|              2015|                12|  Wednesday|                23|               59|       Night|10321.508055527383|\n",
            "+-------+------------------+------------------+------------------+------------------+-----------+------------------+-----------------+------------+------------------+\n",
            "\n"
          ]
        }
      ]
    },
    {
      "cell_type": "code",
      "source": [
        "# Fare amount can be seen having negative values, so those need to be removed\n",
        "negative_fares_count = df.filter(df_2.fare_amount < 0).count()\n",
        "print(f\"Number of negative fare amounts: {negative_fares_count}\")"
      ],
      "metadata": {
        "colab": {
          "base_uri": "https://localhost:8080/"
        },
        "id": "HcU0Y7Co-5dV",
        "outputId": "9376c3db-9578-4453-8865-f6e962ad8cc7"
      },
      "execution_count": 29,
      "outputs": [
        {
          "output_type": "stream",
          "name": "stdout",
          "text": [
            "Number of negative fare amounts: 17\n"
          ]
        }
      ]
    },
    {
      "cell_type": "code",
      "source": [
        "# Remove the negative fare values\n",
        "df_2 = df_2.filter(df_2.fare_amount >= 0)"
      ],
      "metadata": {
        "id": "RbXTlmWS_U9d"
      },
      "execution_count": 30,
      "outputs": []
    },
    {
      "cell_type": "code",
      "source": [
        "df_2.describe().show()"
      ],
      "metadata": {
        "colab": {
          "base_uri": "https://localhost:8080/"
        },
        "id": "nd2EYidF_p-P",
        "outputId": "732107f3-9a55-4ad2-8f97-f47b64650396"
      },
      "execution_count": 31,
      "outputs": [
        {
          "output_type": "stream",
          "name": "stdout",
          "text": [
            "+-------+-----------------+------------------+------------------+-----------------+-----------+------------------+-----------------+------------+------------------+\n",
            "|summary|      fare_amount|   passenger_count|              year|            month|day_of_week|              hour|           minute|day_or_night|       distance_km|\n",
            "+-------+-----------------+------------------+------------------+-----------------+-----------+------------------+-----------------+------------+------------------+\n",
            "|  count|           199982|            199982|            199982|           199982|     199982|            199982|           199982|      199982|            199982|\n",
            "|   mean| 11.3623017071537| 1.684501605144463| 2011.742356812113|6.282045384084568|       NULL|13.491329219629767|29.53425308277745|        NULL|11.000162263673923|\n",
            "| stddev|9.897102350180035|1.3859769875199464|1.8563171398503726|3.438947668267369|       NULL| 6.515456636796598|17.33565413238889|        NULL|198.26726205048598|\n",
            "|    min|              0.0|                 0|              2009|                1|     Friday|                 0|                0|         Day|               0.0|\n",
            "|    max|            499.0|               208|              2015|               12|  Wednesday|                23|               59|       Night|10321.508055527383|\n",
            "+-------+-----------------+------------------+------------------+-----------------+-----------+------------------+-----------------+------------+------------------+\n",
            "\n"
          ]
        }
      ]
    },
    {
      "cell_type": "code",
      "source": [
        "# A lot of the fares are equal to 0 as well, we need to check this number as well\n",
        "zero_fares_count = df_2.filter(df_2.fare_amount == 0).count()\n",
        "print(f\"Number of zero fare amounts: {zero_fares_count}\")\n"
      ],
      "metadata": {
        "colab": {
          "base_uri": "https://localhost:8080/"
        },
        "id": "98ArToNG_40d",
        "outputId": "261716c5-0354-47d2-e821-30735eed4723"
      },
      "execution_count": 32,
      "outputs": [
        {
          "output_type": "stream",
          "name": "stdout",
          "text": [
            "Number of zero fare amounts: 5\n"
          ]
        }
      ]
    },
    {
      "cell_type": "code",
      "source": [
        "# Remove the fare values with 0\n",
        "df_2 = df_2.filter(df_2.fare_amount > 0)\n",
        "df_2.describe().show()"
      ],
      "metadata": {
        "colab": {
          "base_uri": "https://localhost:8080/"
        },
        "id": "1jqCxQsHADWP",
        "outputId": "387c73f0-3c34-4c05-85f3-0ee90eba5a27"
      },
      "execution_count": 33,
      "outputs": [
        {
          "output_type": "stream",
          "name": "stdout",
          "text": [
            "+-------+------------------+------------------+------------------+------------------+-----------+------------------+------------------+------------+------------------+\n",
            "|summary|       fare_amount|   passenger_count|              year|             month|day_of_week|              hour|            minute|day_or_night|       distance_km|\n",
            "+-------+------------------+------------------+------------------+------------------+-----------+------------------+------------------+------------+------------------+\n",
            "|  count|            199977|            199977|            199977|            199977|     199977|            199977|            199977|      199977|            199977|\n",
            "|   mean|11.362585797366751|1.6844887162023632| 2011.742300364542| 6.282142446381334|       NULL|13.491451516924446|29.533901398660845|        NULL|10.977691451089731|\n",
            "| stddev| 9.897062999907766|1.3859724341034083|1.8562790812738328|3.4389320936774412|       NULL|6.5153827368241535|17.335622715527958|        NULL| 198.0111751808459|\n",
            "|    min|              0.01|                 0|              2009|                 1|     Friday|                 0|                 0|         Day|               0.0|\n",
            "|    max|             499.0|               208|              2015|                12|  Wednesday|                23|                59|       Night|10321.508055527383|\n",
            "+-------+------------------+------------------+------------------+------------------+-----------+------------------+------------------+------------+------------------+\n",
            "\n"
          ]
        }
      ]
    },
    {
      "cell_type": "code",
      "source": [
        "df_2.show()"
      ],
      "metadata": {
        "colab": {
          "base_uri": "https://localhost:8080/"
        },
        "id": "B2T3UjFaaVj3",
        "outputId": "bc3853ea-c11a-4c1f-b44a-fde10984193f"
      },
      "execution_count": 34,
      "outputs": [
        {
          "output_type": "stream",
          "name": "stdout",
          "text": [
            "+-------------------+-----------+---------------+----+-----+-----------+----+------+------------+-------------------+\n",
            "|                key|fare_amount|passenger_count|year|month|day_of_week|hour|minute|day_or_night|        distance_km|\n",
            "+-------------------+-----------+---------------+----+-----+-----------+----+------+------------+-------------------+\n",
            "|2015-05-07 19:52:06|        7.5|              1|2015|    5|   Thursday|  19|    52|       Night| 1.6831263310455395|\n",
            "|2009-07-17 20:04:56|        7.7|              1|2009|    7|     Friday|  20|     4|       Night| 2.4574078788441422|\n",
            "|2009-08-24 21:45:00|       12.9|              1|2009|    8|     Monday|  21|    45|       Night| 3.5445606766481967|\n",
            "|2009-06-26 08:22:21|        5.3|              3|2009|    6|     Friday|   8|    22|         Day| 1.3904925576901968|\n",
            "|2014-08-28 17:47:00|       16.0|              5|2014|    8|   Thursday|  17|    47|         Day|  1.908327331073727|\n",
            "|2011-02-12 02:27:09|        4.9|              1|2011|    2|   Saturday|   2|    27|       Night|                0.0|\n",
            "|2014-10-12 07:04:00|       24.5|              5|2014|   10|     Sunday|   7|     4|         Day|  8.932510847209691|\n",
            "|2012-12-11 13:52:00|        2.5|              1|2012|   12|    Tuesday|  13|    52|         Day|                0.0|\n",
            "|2012-02-17 09:32:00|        9.7|              1|2012|    2|     Friday|   9|    32|         Day| 0.2479646864181767|\n",
            "|2012-03-29 19:06:00|       12.5|              1|2012|    3|   Thursday|  19|     6|       Night| 3.6944514377649944|\n",
            "|2015-05-22 17:32:27|        6.5|              1|2015|    5|     Friday|  17|    32|         Day| 1.9066665468888457|\n",
            "|2011-05-23 22:15:00|        8.5|              1|2011|    5|     Monday|  22|    15|       Night|                0.0|\n",
            "|2011-05-17 14:03:00|        3.3|              5|2011|    5|    Tuesday|  14|     3|         Day|  0.299447937453756|\n",
            "|2011-06-25 11:19:00|       10.9|              1|2011|    6|   Saturday|  11|    19|         Day|  3.197410115664871|\n",
            "|2010-04-06 22:20:27|        6.9|              1|2010|    4|    Tuesday|  22|    20|       Night| 1.2433816697391884|\n",
            "|2012-02-21 09:33:00|        9.7|              2|2012|    2|    Tuesday|   9|    33|         Day|  0.855088985896677|\n",
            "|2011-09-01 09:21:40|        4.9|              1|2011|    9|   Thursday|   9|    21|         Day|0.34114603494553364|\n",
            "|2011-03-19 23:58:27|       10.5|              2|2011|    3|   Saturday|  23|    58|       Night| 0.9117983984854098|\n",
            "|2015-03-25 08:58:35|       12.0|              1|2015|    3|  Wednesday|   8|    58|         Day| 1.4820673892824865|\n",
            "|2009-08-08 00:20:00|        4.9|              1|2009|    8|   Saturday|   0|    20|       Night| 0.8642069698808028|\n",
            "+-------------------+-----------+---------------+----+-----+-----------+----+------+------------+-------------------+\n",
            "only showing top 20 rows\n",
            "\n"
          ]
        }
      ]
    },
    {
      "cell_type": "markdown",
      "source": [
        "Understanding the distributions through a few box plots"
      ],
      "metadata": {
        "id": "bbP704LcdlTe"
      }
    },
    {
      "cell_type": "code",
      "source": [
        "import matplotlib.pyplot as plt"
      ],
      "metadata": {
        "id": "TY6BPZzC-D7s"
      },
      "execution_count": 35,
      "outputs": []
    },
    {
      "cell_type": "code",
      "source": [
        "# Collect data for plotting\n",
        "fare_amount_histogram = df_2.select(\"fare_amount\").rdd.flatMap(lambda x: x).histogram(50)\n",
        "\n",
        "# Plot histogram\n",
        "plt.bar(fare_amount_histogram[0][:-1], fare_amount_histogram[1], width=1.0, color='blue', edgecolor='black')\n",
        "plt.xlabel('Fare Amount')\n",
        "plt.ylabel('Frequency')\n",
        "plt.title('Distribution of Fare Amount')\n",
        "plt.show()"
      ],
      "metadata": {
        "colab": {
          "base_uri": "https://localhost:8080/",
          "height": 472
        },
        "id": "ToSkH2uF9EFb",
        "outputId": "9124ca9f-d575-4642-ef72-0f87288f9927"
      },
      "execution_count": 36,
      "outputs": [
        {
          "output_type": "display_data",
          "data": {
            "text/plain": [
              "<Figure size 640x480 with 1 Axes>"
            ],
            "image/png": "[encoded data removed]"
          },
          "metadata": {}
        }
      ]
    },
    {
      "cell_type": "code",
      "source": [
        "# Similarly there are 0's in other columns as well\n",
        "zero_passenger_count = df_2.filter(df_2.passenger_count == 0).count()\n",
        "print(f\"Number of zero passenger_counts: {zero_passenger_count}\")\n",
        "\n",
        "zero_hour = df_2.filter(df_2.hour == 0).count()\n",
        "print(f\"Number of zero zero_hour: {zero_hour}\")\n",
        "\n",
        "zero_minute = df_2.filter(df_2.minute == 0).count()\n",
        "print(f\"Number of zero zero_minute: {zero_minute}\")\n",
        "\n",
        "zero_distance_km = df_2.filter(df_2.distance_km == 0).count()\n",
        "print(f\"Number of zero zero_distance_km: {zero_distance_km}\")"
      ],
      "metadata": {
        "colab": {
          "base_uri": "https://localhost:8080/"
        },
        "id": "RhusHWpP92NS",
        "outputId": "6e302487-772f-450e-9a57-92797f6aaae7"
      },
      "execution_count": 37,
      "outputs": [
        {
          "output_type": "stream",
          "name": "stdout",
          "text": [
            "Number of zero passenger_counts: 708\n",
            "Number of zero zero_hour: 7844\n",
            "Number of zero zero_minute: 3319\n",
            "Number of zero zero_distance_km: 5674\n"
          ]
        }
      ]
    },
    {
      "cell_type": "code",
      "source": [
        "# Remove the 0 distance values\n",
        "df_2 = df_2.filter(df_2.distance_km > 0)\n",
        "df_2.describe().show()"
      ],
      "metadata": {
        "colab": {
          "base_uri": "https://localhost:8080/"
        },
        "id": "VGkIwj4F-6Wj",
        "outputId": "e21ed998-86f6-4a52-95f9-51bca206ffb7"
      },
      "execution_count": 38,
      "outputs": [
        {
          "output_type": "stream",
          "name": "stdout",
          "text": [
            "+-------+------------------+------------------+------------------+------------------+-----------+------------------+------------------+------------+--------------------+\n",
            "|summary|       fare_amount|   passenger_count|              year|             month|day_of_week|              hour|            minute|day_or_night|         distance_km|\n",
            "+-------+------------------+------------------+------------------+------------------+-----------+------------------+------------------+------------+--------------------+\n",
            "|  count|            194303|            194303|            194303|            194303|     194303|            194303|            194303|      194303|              194303|\n",
            "|   mean|11.353245498010844|1.6848375990077353|2011.7473121876656| 6.281359526100987|       NULL|13.488427867814702| 29.52753174166122|        NULL|  11.298259951285216|\n",
            "| stddev| 9.738111612989215| 1.388370833494595| 1.860022598800575|3.4403779039239524|       NULL| 6.515061467785387|17.339257082627107|        NULL|  200.87251339995706|\n",
            "|    min|              0.01|                 0|              2009|                 1|     Friday|                 0|                 0|         Day|1.111949256695776...|\n",
            "|    max|             499.0|               208|              2015|                12|  Wednesday|                23|                59|       Night|  10321.508055527383|\n",
            "+-------+------------------+------------------+------------------+------------------+-----------+------------------+------------------+------------+--------------------+\n",
            "\n"
          ]
        }
      ]
    },
    {
      "cell_type": "code",
      "source": [
        "# Similarly there are 0's in other columns as well\n",
        "zero_passenger_count = df_2.filter(df_2.passenger_count == 0).count()\n",
        "print(f\"Number of zero passenger_counts: {zero_passenger_count}\")\n",
        "\n",
        "zero_hour = df_2.filter(df_2.hour == 0).count()\n",
        "print(f\"Number of zero zero_hour: {zero_hour}\")\n",
        "\n",
        "zero_minute = df_2.filter(df_2.minute == 0).count()\n",
        "print(f\"Number of zero zero_minute: {zero_minute}\")\n",
        "\n",
        "zero_distance_km = df_2.filter(df_2.distance_km == 0).count()\n",
        "print(f\"Number of zero zero_distance_km: {zero_distance_km}\")"
      ],
      "metadata": {
        "colab": {
          "base_uri": "https://localhost:8080/"
        },
        "id": "pUNZ-IQO-6FG",
        "outputId": "b0524625-daff-49ff-800e-c8a1d4eec530"
      },
      "execution_count": 39,
      "outputs": [
        {
          "output_type": "stream",
          "name": "stdout",
          "text": [
            "Number of zero passenger_counts: 690\n",
            "Number of zero zero_hour: 7641\n",
            "Number of zero zero_minute: 3231\n",
            "Number of zero zero_distance_km: 0\n"
          ]
        }
      ]
    },
    {
      "cell_type": "code",
      "source": [
        "# Lets try checking for outliers to understand the data better\n",
        "# Collect fare_amount data\n",
        "fare_amount_data = df_2.select(\"fare_amount\").rdd.flatMap(lambda x: x).collect()\n",
        "\n",
        "plt.figure(figsize=(10, 6))\n",
        "plt.boxplot(fare_amount_data, vert=False)\n",
        "plt.title('Box Plot for Fare Amount')\n",
        "plt.xlabel('Fare Amount')\n",
        "plt.show()"
      ],
      "metadata": {
        "colab": {
          "base_uri": "https://localhost:8080/",
          "height": 564
        },
        "id": "7fJOv1xaJeuF",
        "outputId": "34129855-4ca6-4de5-cc9d-52f1e251f536"
      },
      "execution_count": 40,
      "outputs": [
        {
          "output_type": "display_data",
          "data": {
            "text/plain": [
              "<Figure size 1000x600 with 1 Axes>"
            ],
            "image/png": "[encoded data removed]"
          },
          "metadata": {}
        }
      ]
    },
    {
      "cell_type": "code",
      "source": [
        "passenger_count_data = df_2.select(\"passenger_count\").rdd.flatMap(lambda x: x).collect()\n",
        "\n",
        "plt.figure(figsize=(10, 6))\n",
        "plt.boxplot(passenger_count_data, vert=False)\n",
        "plt.title('Box Plot for passenger_count')\n",
        "plt.xlabel('passenger_count')\n",
        "plt.show()"
      ],
      "metadata": {
        "colab": {
          "base_uri": "https://localhost:8080/",
          "height": 564
        },
        "id": "TN4N3YOb90Ba",
        "outputId": "e2618a5f-5c29-470c-ee2d-e8404ea7d779"
      },
      "execution_count": 41,
      "outputs": [
        {
          "output_type": "display_data",
          "data": {
            "text/plain": [
              "<Figure size 1000x600 with 1 Axes>"
            ],
            "image/png": "[encoded data removed]"
          },
          "metadata": {}
        }
      ]
    },
    {
      "cell_type": "code",
      "source": [
        "distance_km_data = df_2.select(\"distance_km\").rdd.flatMap(lambda x: x).collect()\n",
        "\n",
        "plt.figure(figsize=(10, 6))\n",
        "plt.boxplot(distance_km_data, vert=False)\n",
        "plt.title('Box Plot for distance_km')\n",
        "plt.xlabel('distance_km')\n",
        "plt.show()"
      ],
      "metadata": {
        "id": "FkP10ckPYjeQ",
        "colab": {
          "base_uri": "https://localhost:8080/",
          "height": 564
        },
        "outputId": "10df4cf7-131c-48a8-89d8-09532455fdf8"
      },
      "execution_count": 42,
      "outputs": [
        {
          "output_type": "display_data",
          "data": {
            "text/plain": [
              "<Figure size 1000x600 with 1 Axes>"
            ],
            "image/png": "[encoded data removed]"
          },
          "metadata": {}
        }
      ]
    },
    {
      "cell_type": "markdown",
      "source": [
        "Cleaning the data bsed on certail rules-\n",
        "\n",
        "Dropping Rows Based on Conditions:\n",
        "Conditions:\n",
        "\n",
        "*   Distance > 200\n",
        "*   Number of passengers < 1 or > 4\n",
        "*   Fare amount > 100"
      ],
      "metadata": {
        "id": "ICVTAfshcn5Q"
      }
    },
    {
      "cell_type": "code",
      "source": [
        "# Apply filters to remove rows with distance > 200, passenger_count < 1 or > 4, and fare_amount > 100\n",
        "df_2 = df_2.filter(\n",
        "    (df_2.distance_km <= 200) &\n",
        "    (df_2.passenger_count >= 1) &\n",
        "    (df_2.passenger_count <= 4) &\n",
        "    (df_2.fare_amount <= 100)\n",
        ")\n"
      ],
      "metadata": {
        "id": "kOZZDwqDLti7"
      },
      "execution_count": 43,
      "outputs": []
    },
    {
      "cell_type": "code",
      "source": [
        "#Drop the hour and minute as it will add no value\n",
        "df_2 = df_2.drop('hour', 'minute','key')"
      ],
      "metadata": {
        "id": "8l_KEEADeEVZ"
      },
      "execution_count": 44,
      "outputs": []
    },
    {
      "cell_type": "code",
      "source": [
        "df_2.describe().show()"
      ],
      "metadata": {
        "id": "0oekXodTYjhR",
        "colab": {
          "base_uri": "https://localhost:8080/"
        },
        "outputId": "0c1f57f7-ae58-4520-df53-f084da776a84"
      },
      "execution_count": 45,
      "outputs": [
        {
          "output_type": "stream",
          "name": "stdout",
          "text": [
            "+-------+------------------+------------------+------------------+------------------+-----------+------------+--------------------+\n",
            "|summary|       fare_amount|   passenger_count|              year|             month|day_of_week|day_or_night|         distance_km|\n",
            "+-------+------------------+------------------+------------------+------------------+-----------+------------+--------------------+\n",
            "|  count|            175447|            175447|            175447|            175447|     175447|      175447|              175447|\n",
            "|   mean|11.292353930246655|1.3320603943071128|2011.7425262329934|6.2780155830535715|       NULL|        NULL|   2.408416527794775|\n",
            "| stddev| 9.364558601320052|0.6796615474054641| 1.862745435493951|3.4392762269779995|       NULL|        NULL|  3.0579252908012533|\n",
            "|    min|              0.01|                 1|              2009|                 1|     Friday|         Day|1.111949256695776...|\n",
            "|    max|             100.0|                 4|              2015|                12|  Wednesday|       Night|   183.6336399716427|\n",
            "+-------+------------------+------------------+------------------+------------------+-----------+------------+--------------------+\n",
            "\n"
          ]
        }
      ]
    },
    {
      "cell_type": "code",
      "source": [
        "# Adding an extra column for weekend\n",
        "df_2 = df_2.withColumn(\"weekend\",\n",
        "                       when((df_2[\"day_of_week\"] == 'Saturday') | (df_2[\"day_of_week\"] == 'Sunday'), 1)\n",
        "                       .otherwise(0))"
      ],
      "metadata": {
        "id": "uTGs2fJ2dVeh"
      },
      "execution_count": 46,
      "outputs": []
    },
    {
      "cell_type": "code",
      "source": [
        "df_2.show(5)"
      ],
      "metadata": {
        "colab": {
          "base_uri": "https://localhost:8080/"
        },
        "id": "YrdY0tpBf0Hg",
        "outputId": "e0e80e17-a74e-4d80-cd56-d5499ab0b463"
      },
      "execution_count": 47,
      "outputs": [
        {
          "output_type": "stream",
          "name": "stdout",
          "text": [
            "+-----------+---------------+----+-----+-----------+------------+------------------+-------+\n",
            "|fare_amount|passenger_count|year|month|day_of_week|day_or_night|       distance_km|weekend|\n",
            "+-----------+---------------+----+-----+-----------+------------+------------------+-------+\n",
            "|        7.5|              1|2015|    5|   Thursday|       Night|1.6831263310455395|      0|\n",
            "|        7.7|              1|2009|    7|     Friday|       Night|2.4574078788441422|      0|\n",
            "|       12.9|              1|2009|    8|     Monday|       Night|3.5445606766481967|      0|\n",
            "|        5.3|              3|2009|    6|     Friday|         Day|1.3904925576901968|      0|\n",
            "|        9.7|              1|2012|    2|     Friday|         Day|0.2479646864181767|      0|\n",
            "+-----------+---------------+----+-----+-----------+------------+------------------+-------+\n",
            "only showing top 5 rows\n",
            "\n"
          ]
        }
      ]
    },
    {
      "cell_type": "markdown",
      "source": [
        "Encoding the categorical variables"
      ],
      "metadata": {
        "id": "1fl1FWyEhk5S"
      }
    },
    {
      "cell_type": "code",
      "source": [
        "# Indexing day_or_night\n",
        "indexer_day_or_night = StringIndexer(inputCol=\"day_or_night\", outputCol=\"day_or_night_index\")\n",
        "\n",
        "# One-hot encoding day_or_night\n",
        "encoder_day_or_night = OneHotEncoder(inputCol=\"day_or_night_index\", outputCol=\"day_or_night_encoded\")\n",
        "\n",
        "# Indexing day_of_week\n",
        "indexer_day_of_week = StringIndexer(inputCol=\"day_of_week\", outputCol=\"day_of_week_index\")\n",
        "\n",
        "# One-hot encoding day_of_week\n",
        "encoder_day_of_week = OneHotEncoder(inputCol=\"day_of_week_index\", outputCol=\"day_of_week_encoded\")\n",
        "\n",
        "# Create a pipeline for both indexers and encoders\n",
        "pipeline = Pipeline(stages=[indexer_day_of_week, encoder_day_of_week,\n",
        "                            indexer_day_or_night, encoder_day_or_night])\n",
        "\n",
        "# Fit and transform the DataFrame\n",
        "df_2 = pipeline.fit(df_2).transform(df_2)\n"
      ],
      "metadata": {
        "id": "k_-dJdh9f2nR"
      },
      "execution_count": 48,
      "outputs": []
    },
    {
      "cell_type": "code",
      "source": [
        "df_2 = df_2.drop('day_of_week_index','day_or_night_encoded','day_or_night','day_of_week')"
      ],
      "metadata": {
        "id": "rHDau2CfjvaE"
      },
      "execution_count": 49,
      "outputs": []
    },
    {
      "cell_type": "code",
      "source": [
        "df_2.describe().show()"
      ],
      "metadata": {
        "colab": {
          "base_uri": "https://localhost:8080/"
        },
        "id": "Ib1VgxULiepk",
        "outputId": "5bf98bc3-901a-4e39-bef4-a8ce45c66e35"
      },
      "execution_count": 50,
      "outputs": [
        {
          "output_type": "stream",
          "name": "stdout",
          "text": [
            "+-------+------------------+------------------+------------------+------------------+--------------------+------------------+-------------------+\n",
            "|summary|       fare_amount|   passenger_count|              year|             month|         distance_km|           weekend| day_or_night_index|\n",
            "+-------+------------------+------------------+------------------+------------------+--------------------+------------------+-------------------+\n",
            "|  count|            175447|            175447|            175447|            175447|              175447|            175447|             175447|\n",
            "|   mean|11.292353930246655|1.3320603943071128|2011.7425262329934|6.2780155830535715|   2.408416527794775|0.2829173482590184| 0.4721083860083102|\n",
            "| stddev| 9.364558601320052|0.6796615474054641| 1.862745435493951|3.4392762269779995|  3.0579252908012533|0.4504178933529428|0.49922287445060154|\n",
            "|    min|              0.01|                 1|              2009|                 1|1.111949256695776...|                 0|                0.0|\n",
            "|    max|             100.0|                 4|              2015|                12|   183.6336399716427|                 1|                1.0|\n",
            "+-------+------------------+------------------+------------------+------------------+--------------------+------------------+-------------------+\n",
            "\n"
          ]
        }
      ]
    },
    {
      "cell_type": "code",
      "source": [
        "df_2.show(5)"
      ],
      "metadata": {
        "colab": {
          "base_uri": "https://localhost:8080/"
        },
        "id": "Dh--X98riS7Y",
        "outputId": "565c00e4-b17e-4071-80aa-5c8c8b2b8af4"
      },
      "execution_count": 62,
      "outputs": [
        {
          "output_type": "stream",
          "name": "stdout",
          "text": [
            "+-----------+---------------+----+-----+------------------+-------+-------------------+------------------+\n",
            "|fare_amount|passenger_count|year|month|       distance_km|weekend|day_of_week_encoded|day_or_night_index|\n",
            "+-----------+---------------+----+-----+------------------+-------+-------------------+------------------+\n",
            "|        7.5|              1|2015|    5|1.6831263310455395|      0|      (6,[2],[1.0])|               1.0|\n",
            "|        7.7|              1|2009|    7|2.4574078788441422|      0|      (6,[0],[1.0])|               1.0|\n",
            "|       12.9|              1|2009|    8|3.5445606766481967|      0|          (6,[],[])|               1.0|\n",
            "|        5.3|              3|2009|    6|1.3904925576901968|      0|      (6,[0],[1.0])|               0.0|\n",
            "|        9.7|              1|2012|    2|0.2479646864181767|      0|      (6,[0],[1.0])|               0.0|\n",
            "+-----------+---------------+----+-----+------------------+-------+-------------------+------------------+\n",
            "only showing top 5 rows\n",
            "\n"
          ]
        }
      ]
    },
    {
      "cell_type": "code",
      "source": [
        "# Transform the 'year' column to keep only the last two digits\n",
        "df_2 = df_2.withColumn(\"year\", col(\"year\") % 100)"
      ],
      "metadata": {
        "id": "cONihJVd38yS"
      },
      "execution_count": 63,
      "outputs": []
    },
    {
      "cell_type": "code",
      "source": [
        "df_2.show(5)"
      ],
      "metadata": {
        "colab": {
          "base_uri": "https://localhost:8080/"
        },
        "id": "lxVyd0kg3-rY",
        "outputId": "5af316d5-b8b0-4152-ed8d-9cdea9dc4e79"
      },
      "execution_count": 74,
      "outputs": [
        {
          "output_type": "stream",
          "name": "stdout",
          "text": [
            "+-----------+---------------+----+-----+------------------+-------+-------------------+------------------+\n",
            "|fare_amount|passenger_count|year|month|       distance_km|weekend|day_of_week_encoded|day_or_night_index|\n",
            "+-----------+---------------+----+-----+------------------+-------+-------------------+------------------+\n",
            "|        7.5|              1|  15|    5|1.6831263310455395|      0|      (6,[2],[1.0])|               1.0|\n",
            "|        7.7|              1|   9|    7|2.4574078788441422|      0|      (6,[0],[1.0])|               1.0|\n",
            "|       12.9|              1|   9|    8|3.5445606766481967|      0|          (6,[],[])|               1.0|\n",
            "|        5.3|              3|   9|    6|1.3904925576901968|      0|      (6,[0],[1.0])|               0.0|\n",
            "|        9.7|              1|  12|    2|0.2479646864181767|      0|      (6,[0],[1.0])|               0.0|\n",
            "+-----------+---------------+----+-----+------------------+-------+-------------------+------------------+\n",
            "only showing top 5 rows\n",
            "\n"
          ]
        }
      ]
    },
    {
      "cell_type": "code",
      "source": [],
      "metadata": {
        "id": "3jTj1-eS5PR9"
      },
      "execution_count": null,
      "outputs": []
    },
    {
      "cell_type": "code",
      "source": [
        "# Define the input features you want to scale\n",
        "input_features = [\"passenger_count\", \"year\", \"month\", \"distance_km\", \"weekend\", \"day_of_week_encoded\", \"day_or_night_index\"]\n",
        "\n",
        "# Assemble the features into a single vector\n",
        "assembler = VectorAssembler(inputCols=input_features, outputCol=\"features_unscaled\")\n",
        "\n",
        "# Transform the DataFrame\n",
        "df_assembled = assembler.transform(df_2)\n",
        "\n",
        "# Initialize the StandardScaler\n",
        "scaler = StandardScaler(inputCol=\"features_unscaled\", outputCol=\"features_scaled\", withMean=True, withStd=True)\n",
        "\n",
        "# Fit the scaler on the assembled data\n",
        "scaler_model = scaler.fit(df_assembled)\n",
        "\n",
        "# Transform the DataFrame to scale the features\n",
        "df_final = scaler_model.transform(df_assembled)\n",
        "\n",
        "# Show the scaled features\n",
        "df_final.select(\"features_scaled\").show(5, truncate=False)\n"
      ],
      "metadata": {
        "id": "TQv7L6wxiU_A",
        "colab": {
          "base_uri": "https://localhost:8080/"
        },
        "outputId": "c6fcbe95-25c2-44f7-c235-e08554e6de08"
      },
      "execution_count": 75,
      "outputs": [
        {
          "output_type": "stream",
          "name": "stdout",
          "text": [
            "+-----------------------------------------------------------------------------------------------------------------------------------------------------------------------------------------------------------------------------------------------------+\n",
            "|features_scaled                                                                                                                                                                                                                                      |\n",
            "+-----------------------------------------------------------------------------------------------------------------------------------------------------------------------------------------------------------------------------------------------------+\n",
            "|[-0.48856728113384945,1.7487487581161174,-0.37159434099205796,-0.23718375296187363,-0.6281219117494672,-0.42799676139869286,-0.4218555104691722,2.378930183873668,-0.41204159250257966,-0.40460237898351287,-0.38969353737436563,1.0574267346475987] |\n",
            "|[-0.48856728113384945,-1.4723032899373034,0.20992335866574088,0.01602110790499259,-0.6281219117494672,2.336452960543525,-0.4218555104691722,-0.42035462286863035,-0.41204159250257966,-0.40460237898351287,-0.38969353737436563,1.0574267346475987]  |\n",
            "|[-0.48856728113384945,-1.4723032899373034,0.5006822084946403,0.37154084577249075,-0.6281219117494672,-0.42799676139869286,-0.4218555104691722,-0.42035462286863035,-0.41204159250257966,-0.40460237898351287,-0.38969353737436563,1.0574267346475987]|\n",
            "|[2.4540738137387206,-1.4723032899373034,-0.08083549116315855,-0.3328805884063607,-0.6281219117494672,2.336452960543525,-0.4218555104691722,-0.42035462286863035,-0.41204159250257966,-0.40460237898351287,-0.38969353737436563,-0.9456866064638305]  |\n",
            "|[-0.48856728113384945,0.13822273408940708,-1.2438708904787563,-0.7065090333879741,-0.6281219117494672,2.336452960543525,-0.4218555104691722,-0.42035462286863035,-0.41204159250257966,-0.40460237898351287,-0.38969353737436563,-0.9456866064638305] |\n",
            "+-----------------------------------------------------------------------------------------------------------------------------------------------------------------------------------------------------------------------------------------------------+\n",
            "only showing top 5 rows\n",
            "\n"
          ]
        }
      ]
    },
    {
      "cell_type": "code",
      "source": [
        "df_final.show(5)"
      ],
      "metadata": {
        "colab": {
          "base_uri": "https://localhost:8080/"
        },
        "id": "3nEsROnN7Mja",
        "outputId": "53567b62-d8fe-48ea-a8c4-da17f17ca1f3"
      },
      "execution_count": 76,
      "outputs": [
        {
          "output_type": "stream",
          "name": "stdout",
          "text": [
            "+-----------+---------------+----+-----+------------------+-------+-------------------+------------------+--------------------+--------------------+\n",
            "|fare_amount|passenger_count|year|month|       distance_km|weekend|day_of_week_encoded|day_or_night_index|   features_unscaled|     features_scaled|\n",
            "+-----------+---------------+----+-----+------------------+-------+-------------------+------------------+--------------------+--------------------+\n",
            "|        7.5|              1|  15|    5|1.6831263310455395|      0|      (6,[2],[1.0])|               1.0|(12,[0,1,2,3,7,11...|[-0.4885672811338...|\n",
            "|        7.7|              1|   9|    7|2.4574078788441422|      0|      (6,[0],[1.0])|               1.0|(12,[0,1,2,3,5,11...|[-0.4885672811338...|\n",
            "|       12.9|              1|   9|    8|3.5445606766481967|      0|          (6,[],[])|               1.0|(12,[0,1,2,3,11],...|[-0.4885672811338...|\n",
            "|        5.3|              3|   9|    6|1.3904925576901968|      0|      (6,[0],[1.0])|               0.0|(12,[0,1,2,3,5],[...|[2.45407381373872...|\n",
            "|        9.7|              1|  12|    2|0.2479646864181767|      0|      (6,[0],[1.0])|               0.0|(12,[0,1,2,3,5],[...|[-0.4885672811338...|\n",
            "+-----------+---------------+----+-----+------------------+-------+-------------------+------------------+--------------------+--------------------+\n",
            "only showing top 5 rows\n",
            "\n"
          ]
        }
      ]
    },
    {
      "cell_type": "code",
      "source": [
        "# Split the data into training (70%) and testing (30%)\n",
        "train_df, test_df = df_final.randomSplit([0.7, 0.3], seed=42)\n"
      ],
      "metadata": {
        "id": "GnaI4jP_zt9v"
      },
      "execution_count": 79,
      "outputs": []
    },
    {
      "cell_type": "code",
      "source": [
        "# Initialize the Linear Regression model\n",
        "lr = LinearRegression(featuresCol=\"features_scaled\", labelCol=\"fare_amount\")\n",
        "\n",
        "# Train the model\n",
        "lr_model = lr.fit(train_df)\n",
        "\n",
        "# Make predictions on the test data\n",
        "predictions_lr = lr_model.transform(test_df)\n"
      ],
      "metadata": {
        "id": "xtYDx0o40G50"
      },
      "execution_count": 80,
      "outputs": []
    },
    {
      "cell_type": "code",
      "source": [
        "# Initialize Decision Tree Regressor\n",
        "dt = DecisionTreeRegressor(featuresCol=\"features_scaled\", labelCol=\"fare_amount\")\n",
        "\n",
        "# Train the model\n",
        "dt_model = dt.fit(train_df)\n",
        "\n",
        "# Make predictions\n",
        "predictions_dt = dt_model.transform(test_df)"
      ],
      "metadata": {
        "id": "Dz-FWBlj0Sh9"
      },
      "execution_count": 81,
      "outputs": []
    },
    {
      "cell_type": "code",
      "source": [
        "# Initialize Random Forest Regressor\n",
        "rf = RandomForestRegressor(featuresCol=\"features_scaled\", labelCol=\"fare_amount\")\n",
        "\n",
        "# Train the model\n",
        "rf_model = rf.fit(train_df)\n",
        "\n",
        "# Make predictions\n",
        "predictions_rf = rf_model.transform(test_df)"
      ],
      "metadata": {
        "id": "VXvfqymF0ZWU"
      },
      "execution_count": 82,
      "outputs": []
    },
    {
      "cell_type": "code",
      "source": [
        "# Initialize the evaluator for regression models\n",
        "evaluator = RegressionEvaluator(labelCol=\"fare_amount\", predictionCol=\"prediction\", metricName=\"rmse\")\n",
        "\n",
        "# Calculate RMSE (Root Mean Squared Error)\n",
        "rmse_lr = evaluator.evaluate(predictions_lr)\n",
        "print(f\"Root Mean Squared Error for Linear Regression(RMSE): {rmse_lr}\")\n",
        "# Calculate R-squared (R²)\n",
        "r2_lr = evaluator.evaluate(predictions_lr, {evaluator.metricName: \"r2\"})\n",
        "print(f\"R-squared for Linear Regression(R²): {r2_lr}\")\n",
        "\n",
        "# Calculate RMSE (Root Mean Squared Error)\n",
        "rmse_dt = evaluator.evaluate(predictions_dt)\n",
        "print(f\"Root Mean Squared Error for Decision Tree Regression(RMSE): {rmse_dt}\")\n",
        "# Calculate R-squared (R²)\n",
        "r2_dt = evaluator.evaluate(predictions_dt, {evaluator.metricName: \"r2\"})\n",
        "print(f\"R-squared for Decision Tree Regression(R²): {r2_dt}\")\n",
        "\n",
        "# Calculate RMSE (Root Mean Squared Error)\n",
        "rmse_rf = evaluator.evaluate(predictions_rf)\n",
        "print(f\"Root Mean Squared Error for Random Forest Regression(RMSE): {rmse_rf}\")\n",
        "# Calculate R-squared (R²)\n",
        "r2_rf = evaluator.evaluate(predictions_rf, {evaluator.metricName: \"r2\"})\n",
        "print(f\"R-squared for Random Forest Regression(R²): {r2_rf}\")\n"
      ],
      "metadata": {
        "colab": {
          "base_uri": "https://localhost:8080/"
        },
        "id": "CZyK_ebw0qdD",
        "outputId": "c53c98f2-32b8-4ab8-dc6f-c1195430ef96"
      },
      "execution_count": 83,
      "outputs": [
        {
          "output_type": "stream",
          "name": "stdout",
          "text": [
            "Root Mean Squared Error for Linear Regression(RMSE): 7.612679268421011\n",
            "R-squared for Linear Regression(R²): 0.34224972127220576\n",
            "Root Mean Squared Error for Decision Tree Regression(RMSE): 6.638391872172292\n",
            "R-squared for Decision Tree Regression(R²): 0.4998367864846992\n",
            "Root Mean Squared Error for Random Forest Regression(RMSE): 6.856987320632243\n",
            "R-squared for Random Forest Regression(R²): 0.4663547255876871\n"
          ]
        }
      ]
    },
    {
      "cell_type": "code",
      "source": [],
      "metadata": {
        "id": "qKa1I2NN1WfE"
      },
      "execution_count": 83,
      "outputs": []
    }
  ]
}